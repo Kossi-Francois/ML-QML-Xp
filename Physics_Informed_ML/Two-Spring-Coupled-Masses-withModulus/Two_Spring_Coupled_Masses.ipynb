{
 "cells": [
  {
   "cell_type": "code",
   "execution_count": null,
   "metadata": {
    "id": "M50UAkhI2uEk"
   },
   "outputs": [],
   "source": []
  },
  {
   "cell_type": "code",
   "execution_count": 1,
   "metadata": {
    "colab": {
     "base_uri": "https://localhost:8080/",
     "height": 1000
    },
    "collapsed": true,
    "id": "WxB36ZdJ4sRk",
    "jupyter": {
     "outputs_hidden": true
    },
    "outputId": "41b2c9e4-8e37-4178-fceb-4e1849cf4b2a"
   },
   "outputs": [
    {
     "name": "stdout",
     "output_type": "stream",
     "text": [
      "Collecting nvidia-modulus\n",
      "  Downloading nvidia_modulus-0.9.0-py3-none-any.whl.metadata (21 kB)\n",
      "Requirement already satisfied: torch>=2.0.0 in /usr/local/lib/python3.11/dist-packages (from nvidia-modulus) (2.5.1+cu124)\n",
      "Collecting numpy<1.25,>=1.22.4 (from nvidia-modulus)\n",
      "  Downloading numpy-1.24.4-cp311-cp311-manylinux_2_17_x86_64.manylinux2014_x86_64.whl.metadata (5.6 kB)\n",
      "Requirement already satisfied: xarray>=2023.1.0 in /usr/local/lib/python3.11/dist-packages (from nvidia-modulus) (2025.1.2)\n",
      "Collecting zarr>=2.14.2 (from nvidia-modulus)\n",
      "  Downloading zarr-3.0.2-py3-none-any.whl.metadata (9.6 kB)\n",
      "Requirement already satisfied: fsspec>=2023.1.0 in /usr/local/lib/python3.11/dist-packages (from nvidia-modulus) (2024.10.0)\n",
      "Collecting s3fs>=2023.5.0 (from nvidia-modulus)\n",
      "  Downloading s3fs-2025.2.0-py3-none-any.whl.metadata (1.9 kB)\n",
      "Collecting nvidia-dali-cuda120>=1.35.0 (from nvidia-modulus)\n",
      "  Downloading nvidia_dali_cuda120-1.46.0.tar.gz (1.6 kB)\n",
      "  Installing build dependencies ... \u001b[?25l\u001b[?25hdone\n",
      "  Getting requirements to build wheel ... \u001b[?25l\u001b[?25hdone\n",
      "  Preparing metadata (pyproject.toml) ... \u001b[?25l\u001b[?25hdone\n",
      "Requirement already satisfied: setuptools>=67.6.0 in /usr/local/lib/python3.11/dist-packages (from nvidia-modulus) (75.1.0)\n",
      "Requirement already satisfied: certifi>=2023.7.22 in /usr/local/lib/python3.11/dist-packages (from nvidia-modulus) (2025.1.31)\n",
      "Requirement already satisfied: pytz>=2023.3 in /usr/local/lib/python3.11/dist-packages (from nvidia-modulus) (2025.1)\n",
      "Collecting treelib>=1.2.5 (from nvidia-modulus)\n",
      "  Downloading treelib-1.7.0-py3-none-any.whl.metadata (1.3 kB)\n",
      "Requirement already satisfied: tqdm>=4.60.0 in /usr/local/lib/python3.11/dist-packages (from nvidia-modulus) (4.67.1)\n",
      "Requirement already satisfied: nvtx>=0.2.8 in /usr/local/lib/python3.11/dist-packages (from nvidia-modulus) (0.2.10)\n",
      "Collecting onnx>=1.14.0 (from nvidia-modulus)\n",
      "  Downloading onnx-1.17.0-cp311-cp311-manylinux_2_17_x86_64.manylinux2014_x86_64.whl.metadata (16 kB)\n",
      "Requirement already satisfied: timm>=0.9.12 in /usr/local/lib/python3.11/dist-packages (from nvidia-modulus) (1.0.14)\n",
      "Requirement already satisfied: astunparse<=1.6.3,>=1.6.0 in /usr/local/lib/python3.11/dist-packages (from nvidia-dali-cuda120>=1.35.0->nvidia-modulus) (1.6.3)\n",
      "Requirement already satisfied: gast<=0.6.0,>=0.3.3 in /usr/local/lib/python3.11/dist-packages (from nvidia-dali-cuda120>=1.35.0->nvidia-modulus) (0.6.0)\n",
      "Collecting six<=1.16,>=1.16 (from nvidia-dali-cuda120>=1.35.0->nvidia-modulus)\n",
      "  Downloading six-1.16.0-py2.py3-none-any.whl.metadata (1.8 kB)\n",
      "Collecting dm-tree<=0.1.8 (from nvidia-dali-cuda120>=1.35.0->nvidia-modulus)\n",
      "  Downloading dm_tree-0.1.8-cp311-cp311-manylinux_2_17_x86_64.manylinux2014_x86_64.whl.metadata (1.9 kB)\n",
      "Requirement already satisfied: packaging<=24.2 in /usr/local/lib/python3.11/dist-packages (from nvidia-dali-cuda120>=1.35.0->nvidia-modulus) (24.2)\n",
      "Collecting nvidia-nvjpeg2k-cu12<0.9.0,>=0.8.0 (from nvidia-dali-cuda120>=1.35.0->nvidia-modulus)\n",
      "  Downloading nvidia_nvjpeg2k_cu12-0.8.1.40-py3-none-manylinux2014_x86_64.whl.metadata (2.2 kB)\n",
      "Collecting nvidia-nvtiff-cu12<0.5.0,>=0.4.0 (from nvidia-dali-cuda120>=1.35.0->nvidia-modulus)\n",
      "  Downloading nvidia_nvtiff_cu12-0.4.0.62-py3-none-manylinux2014_x86_64.whl.metadata (2.1 kB)\n",
      "Collecting nvidia-nvimgcodec-cu12<0.5.0,>=0.4.1 (from nvidia-dali-cuda120>=1.35.0->nvidia-modulus)\n",
      "  Downloading nvidia_nvimgcodec_cu12-0.4.1.21-py3-none-manylinux2014_x86_64.whl.metadata (813 bytes)\n",
      "Requirement already satisfied: protobuf>=3.20.2 in /usr/local/lib/python3.11/dist-packages (from onnx>=1.14.0->nvidia-modulus) (4.25.6)\n",
      "Collecting aiobotocore<3.0.0,>=2.5.4 (from s3fs>=2023.5.0->nvidia-modulus)\n",
      "  Downloading aiobotocore-2.19.0-py3-none-any.whl.metadata (23 kB)\n",
      "Collecting fsspec>=2023.1.0 (from nvidia-modulus)\n",
      "  Downloading fsspec-2025.2.0-py3-none-any.whl.metadata (11 kB)\n",
      "Requirement already satisfied: aiohttp!=4.0.0a0,!=4.0.0a1 in /usr/local/lib/python3.11/dist-packages (from s3fs>=2023.5.0->nvidia-modulus) (3.11.12)\n",
      "Requirement already satisfied: torchvision in /usr/local/lib/python3.11/dist-packages (from timm>=0.9.12->nvidia-modulus) (0.20.1+cu124)\n",
      "Requirement already satisfied: pyyaml in /usr/local/lib/python3.11/dist-packages (from timm>=0.9.12->nvidia-modulus) (6.0.2)\n",
      "Requirement already satisfied: huggingface_hub in /usr/local/lib/python3.11/dist-packages (from timm>=0.9.12->nvidia-modulus) (0.28.1)\n",
      "Requirement already satisfied: safetensors in /usr/local/lib/python3.11/dist-packages (from timm>=0.9.12->nvidia-modulus) (0.5.2)\n",
      "Requirement already satisfied: filelock in /usr/local/lib/python3.11/dist-packages (from torch>=2.0.0->nvidia-modulus) (3.17.0)\n",
      "Requirement already satisfied: typing-extensions>=4.8.0 in /usr/local/lib/python3.11/dist-packages (from torch>=2.0.0->nvidia-modulus) (4.12.2)\n",
      "Requirement already satisfied: networkx in /usr/local/lib/python3.11/dist-packages (from torch>=2.0.0->nvidia-modulus) (3.4.2)\n",
      "Requirement already satisfied: jinja2 in /usr/local/lib/python3.11/dist-packages (from torch>=2.0.0->nvidia-modulus) (3.1.5)\n",
      "Collecting nvidia-cuda-nvrtc-cu12==12.4.127 (from torch>=2.0.0->nvidia-modulus)\n",
      "  Downloading nvidia_cuda_nvrtc_cu12-12.4.127-py3-none-manylinux2014_x86_64.whl.metadata (1.5 kB)\n",
      "Collecting nvidia-cuda-runtime-cu12==12.4.127 (from torch>=2.0.0->nvidia-modulus)\n",
      "  Downloading nvidia_cuda_runtime_cu12-12.4.127-py3-none-manylinux2014_x86_64.whl.metadata (1.5 kB)\n",
      "Collecting nvidia-cuda-cupti-cu12==12.4.127 (from torch>=2.0.0->nvidia-modulus)\n",
      "  Downloading nvidia_cuda_cupti_cu12-12.4.127-py3-none-manylinux2014_x86_64.whl.metadata (1.6 kB)\n",
      "Collecting nvidia-cudnn-cu12==9.1.0.70 (from torch>=2.0.0->nvidia-modulus)\n",
      "  Downloading nvidia_cudnn_cu12-9.1.0.70-py3-none-manylinux2014_x86_64.whl.metadata (1.6 kB)\n",
      "Collecting nvidia-cublas-cu12==12.4.5.8 (from torch>=2.0.0->nvidia-modulus)\n",
      "  Downloading nvidia_cublas_cu12-12.4.5.8-py3-none-manylinux2014_x86_64.whl.metadata (1.5 kB)\n",
      "Collecting nvidia-cufft-cu12==11.2.1.3 (from torch>=2.0.0->nvidia-modulus)\n",
      "  Downloading nvidia_cufft_cu12-11.2.1.3-py3-none-manylinux2014_x86_64.whl.metadata (1.5 kB)\n",
      "Collecting nvidia-curand-cu12==10.3.5.147 (from torch>=2.0.0->nvidia-modulus)\n",
      "  Downloading nvidia_curand_cu12-10.3.5.147-py3-none-manylinux2014_x86_64.whl.metadata (1.5 kB)\n",
      "Collecting nvidia-cusolver-cu12==11.6.1.9 (from torch>=2.0.0->nvidia-modulus)\n",
      "  Downloading nvidia_cusolver_cu12-11.6.1.9-py3-none-manylinux2014_x86_64.whl.metadata (1.6 kB)\n",
      "Collecting nvidia-cusparse-cu12==12.3.1.170 (from torch>=2.0.0->nvidia-modulus)\n",
      "  Downloading nvidia_cusparse_cu12-12.3.1.170-py3-none-manylinux2014_x86_64.whl.metadata (1.6 kB)\n",
      "Requirement already satisfied: nvidia-nccl-cu12==2.21.5 in /usr/local/lib/python3.11/dist-packages (from torch>=2.0.0->nvidia-modulus) (2.21.5)\n",
      "Requirement already satisfied: nvidia-nvtx-cu12==12.4.127 in /usr/local/lib/python3.11/dist-packages (from torch>=2.0.0->nvidia-modulus) (12.4.127)\n",
      "Collecting nvidia-nvjitlink-cu12==12.4.127 (from torch>=2.0.0->nvidia-modulus)\n",
      "  Downloading nvidia_nvjitlink_cu12-12.4.127-py3-none-manylinux2014_x86_64.whl.metadata (1.5 kB)\n",
      "Requirement already satisfied: triton==3.1.0 in /usr/local/lib/python3.11/dist-packages (from torch>=2.0.0->nvidia-modulus) (3.1.0)\n",
      "Requirement already satisfied: sympy==1.13.1 in /usr/local/lib/python3.11/dist-packages (from torch>=2.0.0->nvidia-modulus) (1.13.1)\n",
      "Requirement already satisfied: mpmath<1.4,>=1.1.0 in /usr/local/lib/python3.11/dist-packages (from sympy==1.13.1->torch>=2.0.0->nvidia-modulus) (1.3.0)\n",
      "Requirement already satisfied: pandas>=2.1 in /usr/local/lib/python3.11/dist-packages (from xarray>=2023.1.0->nvidia-modulus) (2.2.2)\n",
      "Collecting donfig>=0.8 (from zarr>=2.14.2->nvidia-modulus)\n",
      "  Downloading donfig-0.8.1.post1-py3-none-any.whl.metadata (5.0 kB)\n",
      "Collecting numcodecs>=0.14 (from numcodecs[crc32c]>=0.14->zarr>=2.14.2->nvidia-modulus)\n",
      "  Downloading numcodecs-0.15.1-cp311-cp311-manylinux_2_17_x86_64.manylinux2014_x86_64.whl.metadata (2.9 kB)\n",
      "INFO: pip is looking at multiple versions of zarr to determine which version is compatible with other requirements. This could take a while.\n",
      "Collecting zarr>=2.14.2 (from nvidia-modulus)\n",
      "  Downloading zarr-3.0.1-py3-none-any.whl.metadata (9.5 kB)\n",
      "  Downloading zarr-3.0.0-py3-none-any.whl.metadata (9.5 kB)\n",
      "  Downloading zarr-2.18.4-py3-none-any.whl.metadata (5.8 kB)\n",
      "Collecting asciitree (from zarr>=2.14.2->nvidia-modulus)\n",
      "  Downloading asciitree-0.3.3.tar.gz (4.0 kB)\n",
      "  Preparing metadata (setup.py) ... \u001b[?25l\u001b[?25hdone\n",
      "Collecting fasteners (from zarr>=2.14.2->nvidia-modulus)\n",
      "  Downloading fasteners-0.19-py3-none-any.whl.metadata (4.9 kB)\n",
      "Collecting aioitertools<1.0.0,>=0.5.1 (from aiobotocore<3.0.0,>=2.5.4->s3fs>=2023.5.0->nvidia-modulus)\n",
      "  Downloading aioitertools-0.12.0-py3-none-any.whl.metadata (3.8 kB)\n",
      "Collecting botocore<1.36.4,>=1.36.0 (from aiobotocore<3.0.0,>=2.5.4->s3fs>=2023.5.0->nvidia-modulus)\n",
      "  Downloading botocore-1.36.3-py3-none-any.whl.metadata (5.7 kB)\n",
      "Requirement already satisfied: python-dateutil<3.0.0,>=2.1 in /usr/local/lib/python3.11/dist-packages (from aiobotocore<3.0.0,>=2.5.4->s3fs>=2023.5.0->nvidia-modulus) (2.8.2)\n",
      "Collecting jmespath<2.0.0,>=0.7.1 (from aiobotocore<3.0.0,>=2.5.4->s3fs>=2023.5.0->nvidia-modulus)\n",
      "  Downloading jmespath-1.0.1-py3-none-any.whl.metadata (7.6 kB)\n",
      "Requirement already satisfied: multidict<7.0.0,>=6.0.0 in /usr/local/lib/python3.11/dist-packages (from aiobotocore<3.0.0,>=2.5.4->s3fs>=2023.5.0->nvidia-modulus) (6.1.0)\n",
      "Requirement already satisfied: urllib3!=2.2.0,<3,>=1.25.4 in /usr/local/lib/python3.11/dist-packages (from aiobotocore<3.0.0,>=2.5.4->s3fs>=2023.5.0->nvidia-modulus) (2.3.0)\n",
      "Requirement already satisfied: wrapt<2.0.0,>=1.10.10 in /usr/local/lib/python3.11/dist-packages (from aiobotocore<3.0.0,>=2.5.4->s3fs>=2023.5.0->nvidia-modulus) (1.17.2)\n",
      "Requirement already satisfied: aiohappyeyeballs>=2.3.0 in /usr/local/lib/python3.11/dist-packages (from aiohttp!=4.0.0a0,!=4.0.0a1->s3fs>=2023.5.0->nvidia-modulus) (2.4.4)\n",
      "Requirement already satisfied: aiosignal>=1.1.2 in /usr/local/lib/python3.11/dist-packages (from aiohttp!=4.0.0a0,!=4.0.0a1->s3fs>=2023.5.0->nvidia-modulus) (1.3.2)\n",
      "Requirement already satisfied: attrs>=17.3.0 in /usr/local/lib/python3.11/dist-packages (from aiohttp!=4.0.0a0,!=4.0.0a1->s3fs>=2023.5.0->nvidia-modulus) (25.1.0)\n",
      "Requirement already satisfied: frozenlist>=1.1.1 in /usr/local/lib/python3.11/dist-packages (from aiohttp!=4.0.0a0,!=4.0.0a1->s3fs>=2023.5.0->nvidia-modulus) (1.5.0)\n",
      "Requirement already satisfied: propcache>=0.2.0 in /usr/local/lib/python3.11/dist-packages (from aiohttp!=4.0.0a0,!=4.0.0a1->s3fs>=2023.5.0->nvidia-modulus) (0.2.1)\n",
      "Requirement already satisfied: yarl<2.0,>=1.17.0 in /usr/local/lib/python3.11/dist-packages (from aiohttp!=4.0.0a0,!=4.0.0a1->s3fs>=2023.5.0->nvidia-modulus) (1.18.3)\n",
      "Requirement already satisfied: wheel<1.0,>=0.23.0 in /usr/local/lib/python3.11/dist-packages (from astunparse<=1.6.3,>=1.6.0->nvidia-dali-cuda120>=1.35.0->nvidia-modulus) (0.45.1)\n",
      "Requirement already satisfied: deprecated in /usr/local/lib/python3.11/dist-packages (from numcodecs>=0.14->numcodecs[crc32c]>=0.14->zarr>=2.14.2->nvidia-modulus) (1.2.18)\n",
      "Requirement already satisfied: tzdata>=2022.7 in /usr/local/lib/python3.11/dist-packages (from pandas>=2.1->xarray>=2023.1.0->nvidia-modulus) (2025.1)\n",
      "Requirement already satisfied: requests in /usr/local/lib/python3.11/dist-packages (from huggingface_hub->timm>=0.9.12->nvidia-modulus) (2.32.3)\n",
      "Requirement already satisfied: MarkupSafe>=2.0 in /usr/local/lib/python3.11/dist-packages (from jinja2->torch>=2.0.0->nvidia-modulus) (3.0.2)\n",
      "Requirement already satisfied: pillow!=8.3.*,>=5.3.0 in /usr/local/lib/python3.11/dist-packages (from torchvision->timm>=0.9.12->nvidia-modulus) (11.1.0)\n",
      "Requirement already satisfied: idna>=2.0 in /usr/local/lib/python3.11/dist-packages (from yarl<2.0,>=1.17.0->aiohttp!=4.0.0a0,!=4.0.0a1->s3fs>=2023.5.0->nvidia-modulus) (3.10)\n",
      "Requirement already satisfied: charset-normalizer<4,>=2 in /usr/local/lib/python3.11/dist-packages (from requests->huggingface_hub->timm>=0.9.12->nvidia-modulus) (3.4.1)\n",
      "Downloading nvidia_modulus-0.9.0-py3-none-any.whl (548 kB)\n",
      "\u001b[2K   \u001b[90m━━━━━━━━━━━━━━━━━━━━━━━━━━━━━━━━━━━━━━━━\u001b[0m \u001b[32m548.8/548.8 kB\u001b[0m \u001b[31m15.4 MB/s\u001b[0m eta \u001b[36m0:00:00\u001b[0m\n",
      "\u001b[?25hDownloading numpy-1.24.4-cp311-cp311-manylinux_2_17_x86_64.manylinux2014_x86_64.whl (17.3 MB)\n",
      "\u001b[2K   \u001b[90m━━━━━━━━━━━━━━━━━━━━━━━━━━━━━━━━━━━━━━━━\u001b[0m \u001b[32m17.3/17.3 MB\u001b[0m \u001b[31m40.6 MB/s\u001b[0m eta \u001b[36m0:00:00\u001b[0m\n",
      "\u001b[?25hDownloading onnx-1.17.0-cp311-cp311-manylinux_2_17_x86_64.manylinux2014_x86_64.whl (16.0 MB)\n",
      "\u001b[2K   \u001b[90m━━━━━━━━━━━━━━━━━━━━━━━━━━━━━━━━━━━━━━━━\u001b[0m \u001b[32m16.0/16.0 MB\u001b[0m \u001b[31m64.4 MB/s\u001b[0m eta \u001b[36m0:00:00\u001b[0m\n",
      "\u001b[?25hDownloading s3fs-2025.2.0-py3-none-any.whl (30 kB)\n",
      "Downloading fsspec-2025.2.0-py3-none-any.whl (184 kB)\n",
      "\u001b[2K   \u001b[90m━━━━━━━━━━━━━━━━━━━━━━━━━━━━━━━━━━━━━━━━\u001b[0m \u001b[32m184.5/184.5 kB\u001b[0m \u001b[31m13.9 MB/s\u001b[0m eta \u001b[36m0:00:00\u001b[0m\n",
      "\u001b[?25hDownloading nvidia_cublas_cu12-12.4.5.8-py3-none-manylinux2014_x86_64.whl (363.4 MB)\n",
      "\u001b[2K   \u001b[90m━━━━━━━━━━━━━━━━━━━━━━━━━━━━━━━━━━━━━━━━\u001b[0m \u001b[32m363.4/363.4 MB\u001b[0m \u001b[31m4.1 MB/s\u001b[0m eta \u001b[36m0:00:00\u001b[0m\n",
      "\u001b[?25hDownloading nvidia_cuda_cupti_cu12-12.4.127-py3-none-manylinux2014_x86_64.whl (13.8 MB)\n",
      "\u001b[2K   \u001b[90m━━━━━━━━━━━━━━━━━━━━━━━━━━━━━━━━━━━━━━━━\u001b[0m \u001b[32m13.8/13.8 MB\u001b[0m \u001b[31m47.7 MB/s\u001b[0m eta \u001b[36m0:00:00\u001b[0m\n",
      "\u001b[?25hDownloading nvidia_cuda_nvrtc_cu12-12.4.127-py3-none-manylinux2014_x86_64.whl (24.6 MB)\n",
      "\u001b[2K   \u001b[90m━━━━━━━━━━━━━━━━━━━━━━━━━━━━━━━━━━━━━━━━\u001b[0m \u001b[32m24.6/24.6 MB\u001b[0m \u001b[31m34.1 MB/s\u001b[0m eta \u001b[36m0:00:00\u001b[0m\n",
      "\u001b[?25hDownloading nvidia_cuda_runtime_cu12-12.4.127-py3-none-manylinux2014_x86_64.whl (883 kB)\n",
      "\u001b[2K   \u001b[90m━━━━━━━━━━━━━━━━━━━━━━━━━━━━━━━━━━━━━━━━\u001b[0m \u001b[32m883.7/883.7 kB\u001b[0m \u001b[31m45.1 MB/s\u001b[0m eta \u001b[36m0:00:00\u001b[0m\n",
      "\u001b[?25hDownloading nvidia_cudnn_cu12-9.1.0.70-py3-none-manylinux2014_x86_64.whl (664.8 MB)\n",
      "\u001b[2K   \u001b[90m━━━━━━━━━━━━━━━━━━━━━━━━━━━━━━━━━━━━━━━━\u001b[0m \u001b[32m664.8/664.8 MB\u001b[0m \u001b[31m3.0 MB/s\u001b[0m eta \u001b[36m0:00:00\u001b[0m\n",
      "\u001b[?25hDownloading nvidia_cufft_cu12-11.2.1.3-py3-none-manylinux2014_x86_64.whl (211.5 MB)\n",
      "\u001b[2K   \u001b[90m━━━━━━━━━━━━━━━━━━━━━━━━━━━━━━━━━━━━━━━━\u001b[0m \u001b[32m211.5/211.5 MB\u001b[0m \u001b[31m6.0 MB/s\u001b[0m eta \u001b[36m0:00:00\u001b[0m\n",
      "\u001b[?25hDownloading nvidia_curand_cu12-10.3.5.147-py3-none-manylinux2014_x86_64.whl (56.3 MB)\n",
      "\u001b[2K   \u001b[90m━━━━━━━━━━━━━━━━━━━━━━━━━━━━━━━━━━━━━━━━\u001b[0m \u001b[32m56.3/56.3 MB\u001b[0m \u001b[31m11.5 MB/s\u001b[0m eta \u001b[36m0:00:00\u001b[0m\n",
      "\u001b[?25hDownloading nvidia_cusolver_cu12-11.6.1.9-py3-none-manylinux2014_x86_64.whl (127.9 MB)\n",
      "\u001b[2K   \u001b[90m━━━━━━━━━━━━━━━━━━━━━━━━━━━━━━━━━━━━━━━━\u001b[0m \u001b[32m127.9/127.9 MB\u001b[0m \u001b[31m7.0 MB/s\u001b[0m eta \u001b[36m0:00:00\u001b[0m\n",
      "\u001b[?25hDownloading nvidia_cusparse_cu12-12.3.1.170-py3-none-manylinux2014_x86_64.whl (207.5 MB)\n",
      "\u001b[2K   \u001b[90m━━━━━━━━━━━━━━━━━━━━━━━━━━━━━━━━━━━━━━━━\u001b[0m \u001b[32m207.5/207.5 MB\u001b[0m \u001b[31m6.7 MB/s\u001b[0m eta \u001b[36m0:00:00\u001b[0m\n",
      "\u001b[?25hDownloading nvidia_nvjitlink_cu12-12.4.127-py3-none-manylinux2014_x86_64.whl (21.1 MB)\n",
      "\u001b[2K   \u001b[90m━━━━━━━━━━━━━━━━━━━━━━━━━━━━━━━━━━━━━━━━\u001b[0m \u001b[32m21.1/21.1 MB\u001b[0m \u001b[31m73.0 MB/s\u001b[0m eta \u001b[36m0:00:00\u001b[0m\n",
      "\u001b[?25hDownloading treelib-1.7.0-py3-none-any.whl (18 kB)\n",
      "Downloading zarr-2.18.4-py3-none-any.whl (210 kB)\n",
      "\u001b[2K   \u001b[90m━━━━━━━━━━━━━━━━━━━━━━━━━━━━━━━━━━━━━━━━\u001b[0m \u001b[32m210.6/210.6 kB\u001b[0m \u001b[31m16.3 MB/s\u001b[0m eta \u001b[36m0:00:00\u001b[0m\n",
      "\u001b[?25hDownloading aiobotocore-2.19.0-py3-none-any.whl (77 kB)\n",
      "\u001b[2K   \u001b[90m━━━━━━━━━━━━━━━━━━━━━━━━━━━━━━━━━━━━━━━━\u001b[0m \u001b[32m77.7/77.7 kB\u001b[0m \u001b[31m6.3 MB/s\u001b[0m eta \u001b[36m0:00:00\u001b[0m\n",
      "\u001b[?25hDownloading dm_tree-0.1.8-cp311-cp311-manylinux_2_17_x86_64.manylinux2014_x86_64.whl (152 kB)\n",
      "\u001b[2K   \u001b[90m━━━━━━━━━━━━━━━━━━━━━━━━━━━━━━━━━━━━━━━━\u001b[0m \u001b[32m152.8/152.8 kB\u001b[0m \u001b[31m12.4 MB/s\u001b[0m eta \u001b[36m0:00:00\u001b[0m\n",
      "\u001b[?25hDownloading numcodecs-0.15.1-cp311-cp311-manylinux_2_17_x86_64.manylinux2014_x86_64.whl (8.9 MB)\n",
      "\u001b[2K   \u001b[90m━━━━━━━━━━━━━━━━━━━━━━━━━━━━━━━━━━━━━━━━\u001b[0m \u001b[32m8.9/8.9 MB\u001b[0m \u001b[31m98.1 MB/s\u001b[0m eta \u001b[36m0:00:00\u001b[0m\n",
      "\u001b[?25hDownloading nvidia_nvimgcodec_cu12-0.4.1.21-py3-none-manylinux2014_x86_64.whl (23.3 MB)\n",
      "\u001b[2K   \u001b[90m━━━━━━━━━━━━━━━━━━━━━━━━━━━━━━━━━━━━━━━━\u001b[0m \u001b[32m23.3/23.3 MB\u001b[0m \u001b[31m72.9 MB/s\u001b[0m eta \u001b[36m0:00:00\u001b[0m\n",
      "\u001b[?25hDownloading nvidia_nvjpeg2k_cu12-0.8.1.40-py3-none-manylinux2014_x86_64.whl (3.8 MB)\n",
      "\u001b[2K   \u001b[90m━━━━━━━━━━━━━━━━━━━━━━━━━━━━━━━━━━━━━━━━\u001b[0m \u001b[32m3.8/3.8 MB\u001b[0m \u001b[31m64.2 MB/s\u001b[0m eta \u001b[36m0:00:00\u001b[0m\n",
      "\u001b[?25hDownloading nvidia_nvtiff_cu12-0.4.0.62-py3-none-manylinux2014_x86_64.whl (2.4 MB)\n",
      "\u001b[2K   \u001b[90m━━━━━━━━━━━━━━━━━━━━━━━━━━━━━━━━━━━━━━━━\u001b[0m \u001b[32m2.4/2.4 MB\u001b[0m \u001b[31m73.7 MB/s\u001b[0m eta \u001b[36m0:00:00\u001b[0m\n",
      "\u001b[?25hDownloading six-1.16.0-py2.py3-none-any.whl (11 kB)\n",
      "Downloading fasteners-0.19-py3-none-any.whl (18 kB)\n",
      "Downloading aioitertools-0.12.0-py3-none-any.whl (24 kB)\n",
      "Downloading botocore-1.36.3-py3-none-any.whl (13.3 MB)\n",
      "\u001b[2K   \u001b[90m━━━━━━━━━━━━━━━━━━━━━━━━━━━━━━━━━━━━━━━━\u001b[0m \u001b[32m13.3/13.3 MB\u001b[0m \u001b[31m95.4 MB/s\u001b[0m eta \u001b[36m0:00:00\u001b[0m\n",
      "\u001b[?25hDownloading jmespath-1.0.1-py3-none-any.whl (20 kB)\n",
      "Building wheels for collected packages: nvidia-dali-cuda120, asciitree\n",
      "  Building wheel for nvidia-dali-cuda120 (pyproject.toml) ... \u001b[?25l\u001b[?25hdone\n",
      "  Created wheel for nvidia-dali-cuda120: filename=nvidia_dali_cuda120-1.46.0-py3-none-manylinux2014_x86_64.whl size=409238405 sha256=7a497d68d3d05292b8644e75cdf3418f6ef02fcfb515e65e23da0cef4251130e\n",
      "  Stored in directory: /root/.cache/pip/wheels/98/9e/25/71fed3123336acc0921ac2fe2ed62420e2b83a92d76df6426d\n",
      "  Building wheel for asciitree (setup.py) ... \u001b[?25l\u001b[?25hdone\n",
      "  Created wheel for asciitree: filename=asciitree-0.3.3-py3-none-any.whl size=5034 sha256=f64d99787cf8c3224f4e8cf5cb9ade2abff517baa2b8240538ca8c971a115b4c\n",
      "  Stored in directory: /root/.cache/pip/wheels/71/c1/da/23077eb3b87d24d6f3852ed1ed1a1ac2d3c885ad6ebd2b4a07\n",
      "Successfully built nvidia-dali-cuda120 asciitree\n",
      "Installing collected packages: dm-tree, asciitree, six, nvidia-nvtiff-cu12, nvidia-nvjpeg2k-cu12, nvidia-nvjitlink-cu12, nvidia-nvimgcodec-cu12, nvidia-curand-cu12, nvidia-cufft-cu12, nvidia-cuda-runtime-cu12, nvidia-cuda-nvrtc-cu12, nvidia-cuda-cupti-cu12, nvidia-cublas-cu12, numpy, jmespath, fsspec, fasteners, aioitertools, treelib, onnx, nvidia-cusparse-cu12, nvidia-cudnn-cu12, numcodecs, zarr, nvidia-dali-cuda120, nvidia-cusolver-cu12, botocore, aiobotocore, s3fs, nvidia-modulus\n",
      "  Attempting uninstall: dm-tree\n",
      "    Found existing installation: dm-tree 0.1.9\n",
      "    Uninstalling dm-tree-0.1.9:\n",
      "      Successfully uninstalled dm-tree-0.1.9\n",
      "  Attempting uninstall: six\n",
      "    Found existing installation: six 1.17.0\n",
      "    Uninstalling six-1.17.0:\n",
      "      Successfully uninstalled six-1.17.0\n",
      "  Attempting uninstall: nvidia-nvjitlink-cu12\n",
      "    Found existing installation: nvidia-nvjitlink-cu12 12.5.82\n",
      "    Uninstalling nvidia-nvjitlink-cu12-12.5.82:\n",
      "      Successfully uninstalled nvidia-nvjitlink-cu12-12.5.82\n",
      "  Attempting uninstall: nvidia-curand-cu12\n",
      "    Found existing installation: nvidia-curand-cu12 10.3.6.82\n",
      "    Uninstalling nvidia-curand-cu12-10.3.6.82:\n",
      "      Successfully uninstalled nvidia-curand-cu12-10.3.6.82\n",
      "  Attempting uninstall: nvidia-cufft-cu12\n",
      "    Found existing installation: nvidia-cufft-cu12 11.2.3.61\n",
      "    Uninstalling nvidia-cufft-cu12-11.2.3.61:\n",
      "      Successfully uninstalled nvidia-cufft-cu12-11.2.3.61\n",
      "  Attempting uninstall: nvidia-cuda-runtime-cu12\n",
      "    Found existing installation: nvidia-cuda-runtime-cu12 12.5.82\n",
      "    Uninstalling nvidia-cuda-runtime-cu12-12.5.82:\n",
      "      Successfully uninstalled nvidia-cuda-runtime-cu12-12.5.82\n",
      "  Attempting uninstall: nvidia-cuda-nvrtc-cu12\n",
      "    Found existing installation: nvidia-cuda-nvrtc-cu12 12.5.82\n",
      "    Uninstalling nvidia-cuda-nvrtc-cu12-12.5.82:\n",
      "      Successfully uninstalled nvidia-cuda-nvrtc-cu12-12.5.82\n",
      "  Attempting uninstall: nvidia-cuda-cupti-cu12\n",
      "    Found existing installation: nvidia-cuda-cupti-cu12 12.5.82\n",
      "    Uninstalling nvidia-cuda-cupti-cu12-12.5.82:\n",
      "      Successfully uninstalled nvidia-cuda-cupti-cu12-12.5.82\n",
      "  Attempting uninstall: nvidia-cublas-cu12\n",
      "    Found existing installation: nvidia-cublas-cu12 12.5.3.2\n",
      "    Uninstalling nvidia-cublas-cu12-12.5.3.2:\n",
      "      Successfully uninstalled nvidia-cublas-cu12-12.5.3.2\n",
      "  Attempting uninstall: numpy\n",
      "    Found existing installation: numpy 1.26.4\n",
      "    Uninstalling numpy-1.26.4:\n",
      "      Successfully uninstalled numpy-1.26.4\n",
      "  Attempting uninstall: fsspec\n",
      "    Found existing installation: fsspec 2024.10.0\n",
      "    Uninstalling fsspec-2024.10.0:\n",
      "      Successfully uninstalled fsspec-2024.10.0\n",
      "  Attempting uninstall: nvidia-cusparse-cu12\n",
      "    Found existing installation: nvidia-cusparse-cu12 12.5.1.3\n",
      "    Uninstalling nvidia-cusparse-cu12-12.5.1.3:\n",
      "      Successfully uninstalled nvidia-cusparse-cu12-12.5.1.3\n",
      "  Attempting uninstall: nvidia-cudnn-cu12\n",
      "    Found existing installation: nvidia-cudnn-cu12 9.3.0.75\n",
      "    Uninstalling nvidia-cudnn-cu12-9.3.0.75:\n",
      "      Successfully uninstalled nvidia-cudnn-cu12-9.3.0.75\n",
      "  Attempting uninstall: nvidia-cusolver-cu12\n",
      "    Found existing installation: nvidia-cusolver-cu12 11.6.3.83\n",
      "    Uninstalling nvidia-cusolver-cu12-11.6.3.83:\n",
      "      Successfully uninstalled nvidia-cusolver-cu12-11.6.3.83\n",
      "\u001b[31mERROR: pip's dependency resolver does not currently take into account all the packages that are installed. This behaviour is the source of the following dependency conflicts.\n",
      "gcsfs 2024.10.0 requires fsspec==2024.10.0, but you have fsspec 2025.2.0 which is incompatible.\n",
      "tensorflow 2.18.0 requires numpy<2.1.0,>=1.26.0, but you have numpy 1.24.4 which is incompatible.\n",
      "blosc2 3.0.0 requires numpy>=1.25.0, but you have numpy 1.24.4 which is incompatible.\n",
      "pymc 5.20.0 requires numpy>=1.25.0, but you have numpy 1.24.4 which is incompatible.\u001b[0m\u001b[31m\n",
      "\u001b[0mSuccessfully installed aiobotocore-2.19.0 aioitertools-0.12.0 asciitree-0.3.3 botocore-1.36.3 dm-tree-0.1.8 fasteners-0.19 fsspec-2025.2.0 jmespath-1.0.1 numcodecs-0.15.1 numpy-1.24.4 nvidia-cublas-cu12-12.4.5.8 nvidia-cuda-cupti-cu12-12.4.127 nvidia-cuda-nvrtc-cu12-12.4.127 nvidia-cuda-runtime-cu12-12.4.127 nvidia-cudnn-cu12-9.1.0.70 nvidia-cufft-cu12-11.2.1.3 nvidia-curand-cu12-10.3.5.147 nvidia-cusolver-cu12-11.6.1.9 nvidia-cusparse-cu12-12.3.1.170 nvidia-dali-cuda120-1.46.0 nvidia-modulus-0.9.0 nvidia-nvimgcodec-cu12-0.4.1.21 nvidia-nvjitlink-cu12-12.4.127 nvidia-nvjpeg2k-cu12-0.8.1.40 nvidia-nvtiff-cu12-0.4.0.62 onnx-1.17.0 s3fs-2025.2.0 six-1.16.0 treelib-1.7.0 zarr-2.18.4\n"
     ]
    },
    {
     "data": {
      "application/vnd.colab-display-data+json": {
       "id": "6fdd9062f76347f6aa3d5d6899763c62",
       "pip_warning": {
        "packages": [
         "numpy",
         "six"
        ]
       }
      }
     },
     "metadata": {},
     "output_type": "display_data"
    }
   ],
   "source": [
    "# ! pip install nvidia-modulus\n",
    "# !pip install importlib-metadata\n"
   ]
  },
  {
   "cell_type": "code",
   "execution_count": null,
   "metadata": {},
   "outputs": [],
   "source": [
    "# !pip install \"pint==0.19.2\"\n",
    "# !pip install nvidia-modulus\n",
    "# !pip install nvidia-modulus-sym==1.6.0 --no-build-isolation\n",
    "# !pip install torchviz"
   ]
  },
  {
   "cell_type": "code",
   "execution_count": null,
   "metadata": {
    "colab": {
     "base_uri": "https://localhost:8080/",
     "height": 356
    },
    "id": "nDBzGmU74sUS",
    "outputId": "ea5a7b97-a272-49f9-d2fa-e8e6b5453d5d"
   },
   "outputs": [],
   "source": [
    "\n",
    "\n"
   ]
  },
  {
   "cell_type": "markdown",
   "metadata": {
    "id": "x880-nxS3MqL"
   },
   "source": [
    "This notebook is an introduction to Physics-Informed Machine Learning\n",
    "\n",
    "In what follows we will try to solve the ODE of the classic problem *Two Spring-Coupled Masses*, using [Nvidia Modulus library](https://docs.nvidia.com/deeplearning/modulus/getting-started/index.html)\n",
    "\n",
    "![texte du lien](https://miro.medium.com/v2/resize:fit:1400/1*tkCUQCaE-kG9rTKavRs6bQ.png \"Two Spring-Coupled Masses\")"
   ]
  },
  {
   "cell_type": "code",
   "execution_count": null,
   "metadata": {
    "id": "JwOMv8An3Lum"
   },
   "outputs": [],
   "source": []
  },
  {
   "cell_type": "markdown",
   "metadata": {
    "id": "WcYBO4ek6YHU"
   },
   "source": [
    "Motion Analytic equation of\n",
    "\n",
    "$E(1):  m_1\\,\\ddot{x}_1$\t$\\displaystyle = -k_1\\,x_1 +k_2\\,(x_2-x_1)\t$\n",
    "\n",
    "$E(2):  m_2\\,\\ddot{x}_2$\t$\\displaystyle = -k_2\\,(x_2-x_1) +k_3\\,(-x_2) $\n",
    "\n",
    "<br/>\n",
    "Analytics solution\n",
    "\n"
   ]
  },
  {
   "cell_type": "code",
   "execution_count": 1,
   "metadata": {
    "colab": {
     "base_uri": "https://localhost:8080/"
    },
    "id": "PAWUzr0TGjOZ",
    "outputId": "60e19740-4bb2-4bc4-ee53-973b0cf42a85"
   },
   "outputs": [],
   "source": []
  },
  {
   "cell_type": "code",
   "execution_count": 2,
   "metadata": {
    "colab": {
     "base_uri": "https://localhost:8080/",
     "height": 1000
    },
    "id": "XfLMjsTkIPI3",
    "outputId": "443449ed-285c-437b-d7dc-3a3a6c0eac8b"
   },
   "outputs": [],
   "source": []
  },
  {
   "cell_type": "code",
   "execution_count": null,
   "metadata": {},
   "outputs": [],
   "source": []
  },
  {
   "cell_type": "code",
   "execution_count": 23,
   "metadata": {},
   "outputs": [
    {
     "name": "stdout",
     "output_type": "stream",
     "text": [
      "Python 3.8.13\n"
     ]
    }
   ],
   "source": [
    "\n",
    "import os\n",
    "import logging\n",
    "import warnings\n",
    "\n",
    "import numpy as np\n",
    "import torch\n",
    "\n",
    "from IPython.display import Image\n",
    "import matplotlib.pyplot as plt\n",
    "\n",
    "!python --version"
   ]
  },
  {
   "cell_type": "code",
   "execution_count": 3,
   "metadata": {
    "colab": {
     "base_uri": "https://localhost:8080/",
     "height": 356
    },
    "id": "J_pyGjaaGjQq",
    "outputId": "94ae810b-8361-4f92-e48e-561b94381590"
   },
   "outputs": [],
   "source": [
    "import modulus\n",
    "\n",
    "from modulus.hydra import to_yaml\n",
    "from modulus.hydra.utils import compose\n",
    "from modulus.hydra.config import ModulusConfig\n",
    "\n",
    "from sympy import Symbol, Function, Number, Symbol, Eq\n",
    "\n",
    "\n",
    "from modulus.eq.pde import PDE\n",
    "from modulus.hydra  import ModulusConfig, instantiate_arch\n",
    "from modulus.solver import Solver\n",
    "\n",
    "from modulus.domain import Domain\n",
    "from modulus.domain.constraint import (\n",
    "    PointwiseBoundaryConstraint,\n",
    "    PointwiseBoundaryConstraint,\n",
    ")\n",
    "\n",
    "from modulus.geometry.primitives_1d import Point1D\n",
    "from modulus.geometry import Parameterization\n",
    "\n",
    "from modulus.domain.validator import PointwiseValidator\n",
    "from modulus.key import Key\n",
    "from modulus.node import Node\n",
    "\n",
    "\n"
   ]
  },
  {
   "cell_type": "code",
   "execution_count": 9,
   "metadata": {
    "colab": {
     "base_uri": "https://localhost:8080/"
    },
    "id": "FfOX3UF2fXTO",
    "outputId": "87d97b9f-ad72-4089-fb11-2f5b55ee66ec"
   },
   "outputs": [],
   "source": []
  },
  {
   "cell_type": "code",
   "execution_count": 5,
   "metadata": {
    "colab": {
     "base_uri": "https://localhost:8080/",
     "height": 356
    },
    "id": "ijPlLdHOKnwj",
    "outputId": "11eada31-d63c-4bff-aab8-7b26ffab42e2"
   },
   "outputs": [],
   "source": [
    "# import modulus.sym\n",
    "# from modulus.sym.hydra import to_yaml\n",
    "# from modulus.sym.hydra.utils import compose\n",
    "# from modulus.sym.hydra.config import ModulusConfig\n",
    "# from modulus.sym.models.fully_connected import FullyConnectedArch\n",
    "# from modulus.sym.key import Key\n",
    "# from modulus.sym.geometry.primitives_1d import Line1D\n",
    "# from modulus.sym.domain import Domain\n",
    "# from modulus.sym.domain.constraint import PointwiseBoundaryConstraint, PointwiseInteriorConstraint\n",
    "# from modulus.sym.domain.inferencer import PointwiseInferencer\n",
    "# from modulus.sym.eq.pde import PDE\n",
    "# from modulus.sym.solver import Solver\n",
    "# from sympy import Symbol, Number, Function\n",
    "# import numpy as np\n",
    "# import torch\n",
    "# from torchviz import make_dot\n",
    "\n",
    "# warnings.filterwarnings(\"ignore\")"
   ]
  },
  {
   "cell_type": "code",
   "execution_count": null,
   "metadata": {
    "id": "_Pp3Q9AyGjTK"
   },
   "outputs": [],
   "source": []
  },
  {
   "cell_type": "code",
   "execution_count": null,
   "metadata": {
    "id": "Q_xLl-QcMERi"
   },
   "outputs": [],
   "source": []
  },
  {
   "cell_type": "code",
   "execution_count": 10,
   "metadata": {
    "id": "ordnHp34MEUH"
   },
   "outputs": [
    {
     "name": "stdout",
     "output_type": "stream",
     "text": [
      "config.yaml file created successfully!\n"
     ]
    }
   ],
   "source": [
    "# Create config.yaml file\n",
    "\n",
    "config_content = \"\"\"\n",
    "  defaults :\n",
    "    - modulus_default\n",
    "    - arch:\n",
    "        - fully_connected\n",
    "    - scheduler: tf_exponential_lr\n",
    "    - optimizer: adam\n",
    "    - loss: sum\n",
    "    - _self_\n",
    "\n",
    "  save_filetypes : \"vtk,npz\"\n",
    "\n",
    "  scheduler:\n",
    "    decay_rate: 0.95\n",
    "    decay_steps: 100\n",
    "\n",
    "  training:\n",
    "    rec_results_freq: 500\n",
    "    max_steps : 5000\n",
    "\n",
    "  batch_size:\n",
    "    IC: 10\n",
    "    interior: 256\n",
    "\"\"\"\n",
    "\n",
    "# Write to a config.yaml file\n",
    "config_file = \"config.yaml\"\n",
    "with open(config_file, \"w\") as file:\n",
    "    file.write(config_content)\n",
    "\n",
    "print(f\"{config_file} file created successfully!\")\n",
    "\n",
    "\n",
    "\n",
    "# Load config.yaml\n",
    "cfg = compose(config_path=\".\", config_name=\"config\")\n",
    "cfg.network_dir = 'outputs'"
   ]
  },
  {
   "cell_type": "code",
   "execution_count": null,
   "metadata": {
    "id": "LjMxcPbjMEWp"
   },
   "outputs": [],
   "source": []
  },
  {
   "cell_type": "code",
   "execution_count": 11,
   "metadata": {
    "id": "KBVmjouuD4Kt"
   },
   "outputs": [],
   "source": [
    "MASS_CONST = (1, 1) # (m1, m2)\n",
    "SPRING_CONST = (2, 1, 1) # (k1, k2, k3)"
   ]
  },
  {
   "cell_type": "code",
   "execution_count": 12,
   "metadata": {
    "colab": {
     "base_uri": "https://localhost:8080/",
     "height": 211
    },
    "id": "0xmiAU5Q3L6B",
    "outputId": "b393fde0-2886-47f8-9612-ca8d24667dc5"
   },
   "outputs": [],
   "source": [
    "\n",
    "class SpringMass(PDE):\n",
    "    name = \"SpringMass\"\n",
    "\n",
    "    def __init__(self, k=SPRING_CONST, m=MASS_CONST):\n",
    "\n",
    "        self.k = k\n",
    "        self.m = m\n",
    "\n",
    "        k1 = k[0]\n",
    "        k2 = k[1]\n",
    "        k3 = k[2]\n",
    "        m1 = m[0]\n",
    "        m2 = m[1]\n",
    "\n",
    "        t = Symbol(\"t\")\n",
    "        input_variables = {\"t\": t}\n",
    "\n",
    "        x1 = Function(\"x1\")(*input_variables)\n",
    "        x2 = Function(\"x2\")(*input_variables)\n",
    "\n",
    "        if   type(k1) is str: k1 = Function(k1)(*input_variables)\n",
    "        elif type(k1) in [float, int]: k1 = Number(k1)\n",
    "        else : raise Exception(\"k1 should be a number or a str\")\n",
    "\n",
    "\n",
    "        if   type(k2) is str:k2 = Function(k2)(*input_variables)\n",
    "        elif type(k2) in [float, int]: k2 = Number(k2)\n",
    "        else : raise Exception(\"k2 should be a number or a str\")\n",
    "\n",
    "\n",
    "        if   type(k3) is str: k3 = Function(k3)(*input_variables)\n",
    "        elif type(k3) in [float, int]: k3 = Number(k3)\n",
    "        else : raise Exception(\"k3 should be a number or a str\")\n",
    "\n",
    "\n",
    "        if   type(m1) is str: m1 = Function(m1)(*input_variables)\n",
    "        elif type(m1) in [float, int]: m1 = Number(m1)\n",
    "        else : raise Exception(\"m1 should be a number or a str\")\n",
    "\n",
    "\n",
    "        if   type(m2) is str:m2 = Function(m2)(*input_variables)\n",
    "        elif type(m2) in [float, int]:m2 = Number(m2)\n",
    "        else : raise Exception(\"m2 should be a number or a str\")\n",
    "\n",
    "\n",
    "        #define the equations for the two masses\n",
    "        self.equations = {}\n",
    "        self.equations[\"ode_x1\"] = m1 * (x1.diff(t)).diff(t) + k1 * x1        - k2 * (x2 - x1)\n",
    "        self.equations[\"ode_x2\"] = m2 * (x2.diff(t)).diff(t) + k2 * (x2 - x1) - k3 * ( - x2)\n"
   ]
  },
  {
   "cell_type": "code",
   "execution_count": null,
   "metadata": {
    "id": "l3XYMVgp3L79"
   },
   "outputs": [],
   "source": []
  },
  {
   "cell_type": "code",
   "execution_count": 20,
   "metadata": {
    "id": "f2ZYeFR6CSxU"
   },
   "outputs": [],
   "source": [
    "# @modulus.main(config_path=\"conf\", config_name=\"config\")\n",
    "def run(cfg: ModulusConfig, t_max:float = 10.0, initials_xi:dict = { \"x1\": 1.0, \"x2\": 0 }) -> None:\n",
    "\n",
    "    # make list of nodes to unroll graph on\n",
    "    sm = SpringMass(k=SPRING_CONST, m=MASS_CONST)\n",
    "\n",
    "    #define the NN arch\n",
    "    sm_net = instantiate_arch(\n",
    "        input_keys = [Key(\"t\")], #we have the param t\n",
    "        output_keys= [Key(\"x1\"), Key(\"x2\") ], #and we try to predit x1(t) and x2(t)\n",
    "        cfg=cfg.arch.fully_connected, #using a fully connected NN\n",
    "    )\n",
    "\n",
    "    nodes = sm.make_nodes() + [\n",
    "        sm_net.make_node(name=\"spring_mass_network\", jit=cfg.jit)\n",
    "    ]\n",
    "\n",
    "    # add constraints to solver\n",
    "    # make 1D geometry\n",
    "    geo = Point1D(0)\n",
    "\n",
    "    t_symbol = Symbol(\"t\")\n",
    "    x = Symbol(\"x\")\n",
    "    time_range = {t_symbol: (0, t_max)}\n",
    "\n",
    "    # make domain\n",
    "    domain = Domain()\n",
    "\n",
    "    # initial conditions at t = 0 by default\n",
    "    IC = PointwiseBoundaryConstraint(\n",
    "        nodes=nodes,\n",
    "        geometry=geo,\n",
    "        outvar= { **{ \"x1__t\": 0, \"x2__t\": 0, },  **initials_xi},\n",
    "        batch_size=cfg.batch_size.IC,\n",
    "        lambda_weighting={\n",
    "            \"x1\": 1.0,    \"x2\": 1.0,\n",
    "            \"x1__t\": 1.0, \"x2__t\": 1.0,\n",
    "        },\n",
    "        parameterization=Parameterization({t_symbol: 0}),\n",
    "    )\n",
    "    domain.add_constraint(IC, name=\"IC\")\n",
    "\n",
    "    # solve over given time period\n",
    "    interior = PointwiseBoundaryConstraint(\n",
    "        nodes=nodes,\n",
    "        geometry=geo,\n",
    "        outvar={\"ode_x1\": 0.0, \"ode_x2\": 0.0, },\n",
    "        batch_size=cfg.batch_size.interior,\n",
    "        parameterization=Parameterization(time_range),\n",
    "    )\n",
    "    domain.add_constraint(interior, \"interior\")\n",
    "\n",
    "    # add validation data\n",
    "    deltaT = 0.001\n",
    "    t = np.arange(0, t_max, deltaT)\n",
    "    t = np.expand_dims(t, axis=-1)\n",
    "    invar_numpy = {\"t\": t}\n",
    "    outvar_numpy = {\n",
    "        \"x1\": (1 / 6) * np.cos(t)\n",
    "        + (1 / 2) * np.cos(np.sqrt(3) * t)\n",
    "        + (1 / 3) * np.cos(2 * t),\n",
    "        \"x2\": (2 / 6) * np.cos(t)\n",
    "        + (0 / 2) * np.cos(np.sqrt(3) * t)\n",
    "        - (1 / 3) * np.cos(2 * t),\n",
    "    }\n",
    "    validator = PointwiseValidator(\n",
    "        nodes=nodes, invar=invar_numpy, true_outvar=outvar_numpy, batch_size=1024\n",
    "    )\n",
    "    domain.add_validator(validator)\n",
    "\n",
    "    # make solver\n",
    "    slv = Solver(cfg, domain)\n",
    "\n",
    "    # start solver\n",
    "    slv.solve()\n",
    "\n",
    "\n",
    "    return None"
   ]
  },
  {
   "cell_type": "code",
   "execution_count": null,
   "metadata": {
    "id": "tYrk24lsCS0B"
   },
   "outputs": [],
   "source": []
  },
  {
   "cell_type": "code",
   "execution_count": 21,
   "metadata": {},
   "outputs": [],
   "source": [
    "run( cfg=cfg)"
   ]
  },
  {
   "cell_type": "code",
   "execution_count": null,
   "metadata": {},
   "outputs": [],
   "source": []
  },
  {
   "cell_type": "code",
   "execution_count": 29,
   "metadata": {
    "id": "FiLV_jYoMpmt"
   },
   "outputs": [
    {
     "data": {
      "image/png": "[encoded data removed]",
      "text/plain": [
       "<Figure size 432x288 with 1 Axes>"
      ]
     },
     "metadata": {
      "needs_background": "light"
     },
     "output_type": "display_data"
    }
   ],
   "source": [
    "# Visualize the results and compare with analytical solution\n",
    "\n",
    "def plot_res(base_dir = \"./outputs/validators/\"):\n",
    "    # plot in 1d\n",
    "    data = np.load(base_dir + \"validator.npz\", allow_pickle=True)\n",
    "    data = np.atleast_1d(data.f.arr_0)[0]\n",
    "\n",
    "    plt.plot(data[\"t\"], data[\"true_x1\"], label=\"True x1(t)\")\n",
    "    plt.plot(data[\"t\"], data[\"true_x2\"], label=\"True x2(t)\")\n",
    "\n",
    "    plt.plot(data[\"t\"], data[\"pred_x1\"], label=\"Pred x1(t)\")\n",
    "    plt.plot(data[\"t\"], data[\"pred_x2\"], label=\"Pred x2(t)\")\n",
    "    plt.legend()\n",
    "    plt.xlabel(\"t\")\n",
    "    plt.ylabel(\"x_i(t)\")\n",
    "    \n",
    "    # displaying the title\n",
    "    plt.title(\"Compare the position xi(t)-True with xi(t)-Predicted over time\")\n",
    "    plt.savefig(\"./outputs/res_plot.png\")\n",
    "    plt.show()\n",
    "    \n",
    "\n",
    "\n",
    "plot_res(base_dir = \"outputs/validators/\")"
   ]
  },
  {
   "cell_type": "code",
   "execution_count": null,
   "metadata": {
    "id": "iitneCUxMprz"
   },
   "outputs": [],
   "source": []
  },
  {
   "cell_type": "code",
   "execution_count": null,
   "metadata": {
    "id": "avnbbGboMpum"
   },
   "outputs": [],
   "source": []
  }
 ],
 "metadata": {
  "colab": {
   "provenance": []
  },
  "kernelspec": {
   "display_name": "Python 3 (ipykernel)",
   "language": "python",
   "name": "python3"
  },
  "language_info": {
   "codemirror_mode": {
    "name": "ipython",
    "version": 3
   },
   "file_extension": ".py",
   "mimetype": "text/x-python",
   "name": "python",
   "nbconvert_exporter": "python",
   "pygments_lexer": "ipython3",
   "version": "3.8.13"
  }
 },
 "nbformat": 4,
 "nbformat_minor": 4
}
